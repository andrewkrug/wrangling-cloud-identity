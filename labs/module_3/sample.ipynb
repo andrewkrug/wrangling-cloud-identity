{
  "nbformat": 4,
  "nbformat_minor": 0,
  "metadata": {
    "colab": {
      "provenance": [],
      "toc_visible": true
    },
    "kernelspec": {
      "name": "python3",
      "display_name": "Python 3"
    },
    "language_info": {
      "name": "python"
    }
  },
  "cells": [
    {
      "cell_type": "code",
      "execution_count": 1,
      "metadata": {
        "id": "9Oig7MvBJq_v",
        "colab": {
          "base_uri": "https://localhost:8080/"
        },
        "outputId": "35df2d20-cd67-4d81-c987-63fe89521aac"
      },
      "outputs": [
        {
          "output_type": "stream",
          "name": "stdout",
          "text": [
            "Collecting boto3\n",
            "  Downloading boto3-1.35.37-py3-none-any.whl.metadata (6.7 kB)\n",
            "Collecting botocore<1.36.0,>=1.35.37 (from boto3)\n",
            "  Downloading botocore-1.35.37-py3-none-any.whl.metadata (5.7 kB)\n",
            "Collecting jmespath<2.0.0,>=0.7.1 (from boto3)\n",
            "  Downloading jmespath-1.0.1-py3-none-any.whl.metadata (7.6 kB)\n",
            "Collecting s3transfer<0.11.0,>=0.10.0 (from boto3)\n",
            "  Downloading s3transfer-0.10.3-py3-none-any.whl.metadata (1.7 kB)\n",
            "Requirement already satisfied: python-dateutil<3.0.0,>=2.1 in /usr/local/lib/python3.10/dist-packages (from botocore<1.36.0,>=1.35.37->boto3) (2.8.2)\n",
            "Requirement already satisfied: urllib3!=2.2.0,<3,>=1.25.4 in /usr/local/lib/python3.10/dist-packages (from botocore<1.36.0,>=1.35.37->boto3) (2.2.3)\n",
            "Requirement already satisfied: six>=1.5 in /usr/local/lib/python3.10/dist-packages (from python-dateutil<3.0.0,>=2.1->botocore<1.36.0,>=1.35.37->boto3) (1.16.0)\n",
            "Downloading boto3-1.35.37-py3-none-any.whl (139 kB)\n",
            "\u001b[2K   \u001b[90m━━━━━━━━━━━━━━━━━━━━━━━━━━━━━━━━━━━━━━━━\u001b[0m \u001b[32m139.1/139.1 kB\u001b[0m \u001b[31m3.3 MB/s\u001b[0m eta \u001b[36m0:00:00\u001b[0m\n",
            "\u001b[?25hDownloading botocore-1.35.37-py3-none-any.whl (12.6 MB)\n",
            "\u001b[2K   \u001b[90m━━━━━━━━━━━━━━━━━━━━━━━━━━━━━━━━━━━━━━━━\u001b[0m \u001b[32m12.6/12.6 MB\u001b[0m \u001b[31m57.4 MB/s\u001b[0m eta \u001b[36m0:00:00\u001b[0m\n",
            "\u001b[?25hDownloading jmespath-1.0.1-py3-none-any.whl (20 kB)\n",
            "Downloading s3transfer-0.10.3-py3-none-any.whl (82 kB)\n",
            "\u001b[2K   \u001b[90m━━━━━━━━━━━━━━━━━━━━━━━━━━━━━━━━━━━━━━━━\u001b[0m \u001b[32m82.6/82.6 kB\u001b[0m \u001b[31m4.8 MB/s\u001b[0m eta \u001b[36m0:00:00\u001b[0m\n",
            "\u001b[?25hInstalling collected packages: jmespath, botocore, s3transfer, boto3\n",
            "Successfully installed boto3-1.35.37 botocore-1.35.37 jmespath-1.0.1 s3transfer-0.10.3\n",
            "Collecting policyuniverse\n",
            "  Downloading policyuniverse-1.5.1.20231109-py2.py3-none-any.whl.metadata (9.0 kB)\n",
            "Downloading policyuniverse-1.5.1.20231109-py2.py3-none-any.whl (484 kB)\n",
            "\u001b[2K   \u001b[90m━━━━━━━━━━━━━━━━━━━━━━━━━━━━━━━━━━━━━━━━\u001b[0m \u001b[32m484.3/484.3 kB\u001b[0m \u001b[31m5.8 MB/s\u001b[0m eta \u001b[36m0:00:00\u001b[0m\n",
            "\u001b[?25hInstalling collected packages: policyuniverse\n",
            "Successfully installed policyuniverse-1.5.1.20231109\n"
          ]
        }
      ],
      "source": [
        "!pip install boto3\n",
        "\n",
        "# We are using policy universe from Netflix Skunkworks\n",
        "!pip install policyuniverse"
      ]
    },
    {
      "cell_type": "markdown",
      "source": [
        "Look at this policy in particular it has allowed all IAM actions beginning with create"
      ],
      "metadata": {
        "id": "PL-52xWES7GI"
      }
    },
    {
      "cell_type": "code",
      "source": [
        "policy_1 = {\n",
        "        \"Statement\": [{\n",
        "            \"Action\": [\"iam:Create*\"],\n",
        "            \"Resource\": \"*\",\n",
        "            \"Effect\": \"Allow\"\n",
        "          }]\n",
        "      }\n",
        "\n",
        "# A static tool would have a challenging time parsing the impact of that without a sophisticated pattern\n",
        "# We can expand it though to show the full impact\n",
        "\n",
        "from policyuniverse.expander_minimizer import expand_policy\n",
        "from pprint import pprint\n",
        "\n",
        "expanded_policy = expand_policy(policy=policy_1)\n",
        "print(pprint(expanded_policy))"
      ],
      "metadata": {
        "colab": {
          "base_uri": "https://localhost:8080/"
        },
        "id": "P19Fhf_wSBz7",
        "outputId": "e7f652fe-d456-4cba-a29d-92f9699c8254"
      },
      "execution_count": 4,
      "outputs": [
        {
          "output_type": "stream",
          "name": "stdout",
          "text": [
            "{'Statement': [{'Action': ['iam:createaccesskey',\n",
            "                           'iam:createaccountalias',\n",
            "                           'iam:creategroup',\n",
            "                           'iam:createinstanceprofile',\n",
            "                           'iam:createloginprofile',\n",
            "                           'iam:createopenidconnectprovider',\n",
            "                           'iam:createpolicy',\n",
            "                           'iam:createpolicyversion',\n",
            "                           'iam:createrole',\n",
            "                           'iam:createsamlprovider',\n",
            "                           'iam:createservicelinkedrole',\n",
            "                           'iam:createservicespecificcredential',\n",
            "                           'iam:createuser',\n",
            "                           'iam:createvirtualmfadevice'],\n",
            "                'Effect': 'Allow',\n",
            "                'Resource': '*'}]}\n",
            "None\n"
          ]
        }
      ]
    },
    {
      "cell_type": "markdown",
      "source": [
        "That really better and much more descriptive than the original.  We can however go back to the original for easy enough."
      ],
      "metadata": {
        "id": "uJR3fneVSXOa"
      }
    },
    {
      "cell_type": "code",
      "source": [
        "from policyuniverse.expander_minimizer import minimize_policy\n",
        "\n",
        "minimized_policy = minimize_policy(policy=expanded_policy, minchars=3)\n",
        "print(pprint(minimized_policy))"
      ],
      "metadata": {
        "colab": {
          "base_uri": "https://localhost:8080/"
        },
        "id": "SDq0MEP6S3dL",
        "outputId": "4b9f29ef-44bf-4878-b11c-25b7ce49eeeb"
      },
      "execution_count": 5,
      "outputs": [
        {
          "output_type": "stream",
          "name": "stdout",
          "text": [
            "{'Statement': [{'Action': ['iam:cre*'], 'Effect': 'Allow', 'Resource': '*'}]}\n",
            "None\n"
          ]
        },
        {
          "output_type": "stream",
          "name": "stderr",
          "text": [
            "Skipping prefix c because length of 1\n",
            "Skipping prefix cr because length of 2\n",
            "Skipping prefix c because length of 1\n",
            "Skipping prefix cr because length of 2\n",
            "Skipping prefix c because length of 1\n",
            "Skipping prefix cr because length of 2\n",
            "Skipping prefix c because length of 1\n",
            "Skipping prefix cr because length of 2\n",
            "Skipping prefix c because length of 1\n",
            "Skipping prefix cr because length of 2\n",
            "Skipping prefix c because length of 1\n",
            "Skipping prefix cr because length of 2\n",
            "Skipping prefix c because length of 1\n",
            "Skipping prefix cr because length of 2\n",
            "Skipping prefix c because length of 1\n",
            "Skipping prefix cr because length of 2\n",
            "Skipping prefix c because length of 1\n",
            "Skipping prefix cr because length of 2\n",
            "Skipping prefix c because length of 1\n",
            "Skipping prefix cr because length of 2\n",
            "Skipping prefix c because length of 1\n",
            "Skipping prefix cr because length of 2\n",
            "Skipping prefix c because length of 1\n",
            "Skipping prefix cr because length of 2\n",
            "Skipping prefix c because length of 1\n",
            "Skipping prefix cr because length of 2\n",
            "Skipping prefix c because length of 1\n",
            "Skipping prefix cr because length of 2\n",
            "Start size: 588. End size: 129\n"
          ]
        }
      ]
    },
    {
      "cell_type": "markdown",
      "source": [
        "We can also run checks on policies to see if they allow dangerous public access"
      ],
      "metadata": {
        "id": "rClgScvdTccr"
      }
    },
    {
      "cell_type": "code",
      "source": [
        "from policyuniverse.policy import Policy\n",
        "from policyuniverse.statement import ConditionTuple, PrincipalTuple\n",
        "\n",
        "# An internet accessible policy:\n",
        "policy01 = dict(\n",
        "    Version='2012-10-08',\n",
        "    Statement=dict(\n",
        "        Effect='Allow',\n",
        "        Principal='*',\n",
        "        Action=['rds:*'],\n",
        "        Resource='*',\n",
        "        Condition={\n",
        "            'IpAddress': {\n",
        "                'AWS:SourceIP': ['0.0.0.0/0']\n",
        "            }\n",
        "        }))\n",
        "\n",
        "policy = Policy(policy01)\n",
        "assert policy.is_internet_accessible() == False\n",
        "assert policy.internet_accessible_actions() == set(['rds:*'])"
      ],
      "metadata": {
        "colab": {
          "base_uri": "https://localhost:8080/",
          "height": 202
        },
        "id": "L4q-DPWMTbV6",
        "outputId": "ee73d90c-1a11-49cc-f20f-75f07e58fa57"
      },
      "execution_count": 9,
      "outputs": [
        {
          "output_type": "error",
          "ename": "AssertionError",
          "evalue": "",
          "traceback": [
            "\u001b[0;31m---------------------------------------------------------------------------\u001b[0m",
            "\u001b[0;31mAssertionError\u001b[0m                            Traceback (most recent call last)",
            "\u001b[0;32m<ipython-input-9-4a10d7dee19b>\u001b[0m in \u001b[0;36m<cell line: 19>\u001b[0;34m()\u001b[0m\n\u001b[1;32m     17\u001b[0m \u001b[0;34m\u001b[0m\u001b[0m\n\u001b[1;32m     18\u001b[0m \u001b[0mpolicy\u001b[0m \u001b[0;34m=\u001b[0m \u001b[0mPolicy\u001b[0m\u001b[0;34m(\u001b[0m\u001b[0mpolicy01\u001b[0m\u001b[0;34m)\u001b[0m\u001b[0;34m\u001b[0m\u001b[0;34m\u001b[0m\u001b[0m\n\u001b[0;32m---> 19\u001b[0;31m \u001b[0;32massert\u001b[0m \u001b[0mpolicy\u001b[0m\u001b[0;34m.\u001b[0m\u001b[0mis_internet_accessible\u001b[0m\u001b[0;34m(\u001b[0m\u001b[0;34m)\u001b[0m \u001b[0;34m==\u001b[0m \u001b[0;32mFalse\u001b[0m\u001b[0;34m\u001b[0m\u001b[0;34m\u001b[0m\u001b[0m\n\u001b[0m\u001b[1;32m     20\u001b[0m \u001b[0;32massert\u001b[0m \u001b[0mpolicy\u001b[0m\u001b[0;34m.\u001b[0m\u001b[0minternet_accessible_actions\u001b[0m\u001b[0;34m(\u001b[0m\u001b[0;34m)\u001b[0m \u001b[0;34m==\u001b[0m \u001b[0mset\u001b[0m\u001b[0;34m(\u001b[0m\u001b[0;34m[\u001b[0m\u001b[0;34m'rds:*'\u001b[0m\u001b[0;34m]\u001b[0m\u001b[0;34m)\u001b[0m\u001b[0;34m\u001b[0m\u001b[0;34m\u001b[0m\u001b[0m\n",
            "\u001b[0;31mAssertionError\u001b[0m: "
          ]
        }
      ]
    }
  ]
}